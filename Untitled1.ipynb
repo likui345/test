{
 "cells": [
  {
   "cell_type": "code",
   "execution_count": 157,
   "metadata": {},
   "outputs": [],
   "source": [
    "grammar = \"\"\"\n",
    "sentence = adj noun verb adj noun2\n",
    "adj = adj_single adj_single | null\n",
    "adj_single = 漂亮的 | 蓝色 | 好看\n",
    "adv = 安静的 | 静静的\n",
    "noun = 猫 | 女人 | 男人\n",
    "verb = adv 看着 | adv 做着\n",
    "noun2 =  桌子 | 皮球\n",
    "\"\"\""
   ]
  },
  {
   "cell_type": "code",
   "execution_count": 160,
   "metadata": {},
   "outputs": [],
   "source": [
    "def build_grammar(grammar_str, split='='):\n",
    "    grammar_pattern = {}\n",
    "    for line in grammar_str.split('\\n'):\n",
    "        if not line: continue\n",
    "        stmt, expr = line.split(split)\n",
    "        grammar_pattern[stmt.strip()] = [e.split() for e in expr.split('|')]\n",
    "    print(grammar_pattern)\n",
    "    return grammar_pattern"
   ]
  },
  {
   "cell_type": "code",
   "execution_count": 161,
   "metadata": {
    "scrolled": true
   },
   "outputs": [
    {
     "name": "stdout",
     "output_type": "stream",
     "text": [
      "{'sentence': [['adj', 'noun', 'verb', 'adj', 'noun2']], 'adj': [['adj_single', 'adj_single'], ['null']], 'adj_single': [['漂亮的'], ['蓝色'], ['好看']], 'adv': [['安静的'], ['静静的']], 'noun': [['猫'], ['女人'], ['男人']], 'verb': [['adv', '看着'], ['adv', '做着']], 'noun2': [['桌子'], ['皮球']]}\n"
     ]
    }
   ],
   "source": [
    "gramma_pattern = build_grammar(grammar)"
   ]
  },
  {
   "cell_type": "code",
   "execution_count": 189,
   "metadata": {},
   "outputs": [],
   "source": [
    "import random\n",
    "def generate(gramma_pattern,target):\n",
    "    if target not in gramma_pattern : return  target\n",
    "    expr = random.choice(gramma_pattern[target])\n",
    "\n",
    "    token = [generate(gramma_pattern,e) for e in expr]\n",
    "\n",
    "    return ''.join( [t for t in token if t != 'null'])\n",
    "\n"
   ]
  },
  {
   "cell_type": "code",
   "execution_count": 190,
   "metadata": {},
   "outputs": [
    {
     "data": {
      "text/plain": [
       "'女人静静的看着皮球'"
      ]
     },
     "execution_count": 190,
     "metadata": {},
     "output_type": "execute_result"
    }
   ],
   "source": [
    "generate(gramma_pattern, 'sentence')"
   ]
  }
 ],
 "metadata": {
  "kernelspec": {
   "display_name": "Python 3",
   "language": "python",
   "name": "python3"
  },
  "language_info": {
   "codemirror_mode": {
    "name": "ipython",
    "version": 3
   },
   "file_extension": ".py",
   "mimetype": "text/x-python",
   "name": "python",
   "nbconvert_exporter": "python",
   "pygments_lexer": "ipython3",
   "version": "3.7.0"
  }
 },
 "nbformat": 4,
 "nbformat_minor": 2
}
